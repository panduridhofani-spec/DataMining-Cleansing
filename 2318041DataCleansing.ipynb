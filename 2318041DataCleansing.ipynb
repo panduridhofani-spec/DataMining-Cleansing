{
  "nbformat": 4,
  "nbformat_minor": 0,
  "metadata": {
    "colab": {
      "provenance": []
    },
    "kernelspec": {
      "name": "python3",
      "display_name": "Python 3"
    },
    "language_info": {
      "name": "python"
    }
  },
  "cells": [
    {
      "cell_type": "markdown",
      "source": [
        "\n",
        "\n",
        "# **1. Import Libraries**\n",
        "\n"
      ],
      "metadata": {
        "id": "bo2su2fWXBnv"
      }
    },
    {
      "cell_type": "code",
      "source": [
        "import pandas as pd"
      ],
      "metadata": {
        "id": "RAklerlqXIbD"
      },
      "execution_count": 1,
      "outputs": []
    },
    {
      "cell_type": "code",
      "source": [
        "# Langkah 1: Mount Google Drive\n",
        "from google.colab import drive\n",
        "drive.mount('/content/drive')"
      ],
      "metadata": {
        "colab": {
          "base_uri": "https://localhost:8080/"
        },
        "id": "IE124TXlXhWj",
        "outputId": "c4ddfc1a-64f8-4b95-f2c4-979d0194a26f"
      },
      "execution_count": 2,
      "outputs": [
        {
          "output_type": "stream",
          "name": "stdout",
          "text": [
            "Mounted at /content/drive\n"
          ]
        }
      ]
    },
    {
      "cell_type": "code",
      "source": [
        "# Load dataset\n",
        "file_path = \"/content/drive/MyDrive/Colab Notebooks/netflix_dirty.csv\"# ganti sesuai path di Colab\n",
        "df_dirty = pd.read_csv(file_path)\n"
      ],
      "metadata": {
        "id": "DCQ8OScuXjos"
      },
      "execution_count": 11,
      "outputs": []
    },
    {
      "cell_type": "markdown",
      "source": [
        "# **2. Baca Dataset pelanggan yang kotor**"
      ],
      "metadata": {
        "id": "B8nOLJOKXmFm"
      }
    },
    {
      "cell_type": "code",
      "source": [
        "# Tampilkan 5 baris pertama\n",
        "print(\"=== Dataset Asli ===\")\n",
        "print(df.head())\n",
        "print(\"\\nInfo Dataset:\")\n",
        "print(df.info())\n",
        "print(\"\\nJumlah Data & Kolom:\", df.shape)"
      ],
      "metadata": {
        "colab": {
          "base_uri": "https://localhost:8080/"
        },
        "id": "KGXAj0xYXozb",
        "outputId": "16442ab5-3195-4fe6-884b-19852f2c4a26"
      },
      "execution_count": 4,
      "outputs": [
        {
          "output_type": "stream",
          "name": "stdout",
          "text": [
            "=== Dataset Asli ===\n",
            "  show_id     type                             title         director  \\\n",
            "0      s1    Movie              Dick Johnson Is Dead  Kirsten Johnson   \n",
            "1      s3  TV Show                         Ganglands  Julien Leclercq   \n",
            "2      s6  TV Show                     Midnight Mass    Mike Flanagan   \n",
            "3     s14    Movie  Confessions of an Invisible Girl    Bruno Garotti   \n",
            "4      s8    Movie                           Sankofa     Haile Gerima   \n",
            "\n",
            "         country date_added  release_year rating  duration  \\\n",
            "0  United States  9/25/2021          2020  PG-13    90 min   \n",
            "1         France  9/24/2021          2021  TV-MA  1 Season   \n",
            "2  United States  9/24/2021          2021  TV-MA  1 Season   \n",
            "3         Brazil  9/22/2021          2021  TV-PG    91 min   \n",
            "4  United States  9/24/2021          1993  TV-MA   125 min   \n",
            "\n",
            "                                           listed_in  cast  \n",
            "0                                      Documentaries   NaN  \n",
            "1  Crime TV Shows, International TV Shows, TV Act...   NaN  \n",
            "2                 TV Dramas, TV Horror, TV Mysteries   NaN  \n",
            "3                 Children & Family Movies, Comedies   NaN  \n",
            "4   Dramas, Independent Movies, International Movies   NaN  \n",
            "\n",
            "Info Dataset:\n",
            "<class 'pandas.core.frame.DataFrame'>\n",
            "RangeIndex: 8800 entries, 0 to 8799\n",
            "Data columns (total 11 columns):\n",
            " #   Column        Non-Null Count  Dtype  \n",
            "---  ------        --------------  -----  \n",
            " 0   show_id       8800 non-null   object \n",
            " 1   type          8800 non-null   object \n",
            " 2   title         8800 non-null   object \n",
            " 3   director      8775 non-null   object \n",
            " 4   country       8775 non-null   object \n",
            " 5   date_added    8800 non-null   object \n",
            " 6   release_year  8800 non-null   int64  \n",
            " 7   rating        8775 non-null   object \n",
            " 8   duration      8800 non-null   object \n",
            " 9   listed_in     8800 non-null   object \n",
            " 10  cast          0 non-null      float64\n",
            "dtypes: float64(1), int64(1), object(9)\n",
            "memory usage: 756.4+ KB\n",
            "None\n",
            "\n",
            "Jumlah Data & Kolom: (8800, 11)\n"
          ]
        }
      ]
    },
    {
      "cell_type": "markdown",
      "source": [
        "# **3. Mengecek Missing Values**"
      ],
      "metadata": {
        "id": "2bL_p84vXuiX"
      }
    },
    {
      "cell_type": "code",
      "source": [
        "print(\"\\n=== Cek Missing Values ===\")\n",
        "print(df.isnull().sum())"
      ],
      "metadata": {
        "colab": {
          "base_uri": "https://localhost:8080/"
        },
        "id": "Eas-6uF3Xv9v",
        "outputId": "78408fe2-fe1b-45ba-d388-160bf6d1c0b8"
      },
      "execution_count": 5,
      "outputs": [
        {
          "output_type": "stream",
          "name": "stdout",
          "text": [
            "\n",
            "=== Cek Missing Values ===\n",
            "show_id            0\n",
            "type               0\n",
            "title              0\n",
            "director          25\n",
            "country           25\n",
            "date_added         0\n",
            "release_year       0\n",
            "rating            25\n",
            "duration           0\n",
            "listed_in          0\n",
            "cast            8800\n",
            "dtype: int64\n"
          ]
        }
      ]
    },
    {
      "cell_type": "markdown",
      "source": [
        "# **4. Perbaikan Missing Values**"
      ],
      "metadata": {
        "id": "MJ2B311BYDEQ"
      }
    },
    {
      "cell_type": "code",
      "source": [
        "# Kolom 'director' → isi dengan 'Unknown'\n",
        "df_dirty['director'].fillna(\"Unknown\", inplace=True)\n",
        "\n",
        "# Kolom 'country' → isi dengan 'Unknown'\n",
        "df_dirty['country'].fillna(\"Unknown\", inplace=True)\n",
        "\n",
        "# Kolom 'rating' → isi dengan modus (nilai yang paling sering muncul)\n",
        "df_dirty['rating'].fillna(df_dirty['rating'].mode()[0], inplace=True)\n",
        "\n",
        "# Kolom 'cast' → karena NaN sangat banyak, isi dengan 'Not Available'\n",
        "df_dirty['cast'].fillna(\"Not Available\", inplace=True)"
      ],
      "metadata": {
        "colab": {
          "base_uri": "https://localhost:8080/"
        },
        "id": "Vx7GQxl9YGIk",
        "outputId": "b6c92435-3e13-476c-e3b3-aa47b4d9bc92"
      },
      "execution_count": 12,
      "outputs": [
        {
          "output_type": "stream",
          "name": "stderr",
          "text": [
            "/tmp/ipython-input-1622548494.py:2: FutureWarning: A value is trying to be set on a copy of a DataFrame or Series through chained assignment using an inplace method.\n",
            "The behavior will change in pandas 3.0. This inplace method will never work because the intermediate object on which we are setting values always behaves as a copy.\n",
            "\n",
            "For example, when doing 'df[col].method(value, inplace=True)', try using 'df.method({col: value}, inplace=True)' or df[col] = df[col].method(value) instead, to perform the operation inplace on the original object.\n",
            "\n",
            "\n",
            "  df_dirty['director'].fillna(\"Unknown\", inplace=True)\n",
            "/tmp/ipython-input-1622548494.py:5: FutureWarning: A value is trying to be set on a copy of a DataFrame or Series through chained assignment using an inplace method.\n",
            "The behavior will change in pandas 3.0. This inplace method will never work because the intermediate object on which we are setting values always behaves as a copy.\n",
            "\n",
            "For example, when doing 'df[col].method(value, inplace=True)', try using 'df.method({col: value}, inplace=True)' or df[col] = df[col].method(value) instead, to perform the operation inplace on the original object.\n",
            "\n",
            "\n",
            "  df_dirty['country'].fillna(\"Unknown\", inplace=True)\n",
            "/tmp/ipython-input-1622548494.py:8: FutureWarning: A value is trying to be set on a copy of a DataFrame or Series through chained assignment using an inplace method.\n",
            "The behavior will change in pandas 3.0. This inplace method will never work because the intermediate object on which we are setting values always behaves as a copy.\n",
            "\n",
            "For example, when doing 'df[col].method(value, inplace=True)', try using 'df.method({col: value}, inplace=True)' or df[col] = df[col].method(value) instead, to perform the operation inplace on the original object.\n",
            "\n",
            "\n",
            "  df_dirty['rating'].fillna(df_dirty['rating'].mode()[0], inplace=True)\n",
            "/tmp/ipython-input-1622548494.py:11: FutureWarning: A value is trying to be set on a copy of a DataFrame or Series through chained assignment using an inplace method.\n",
            "The behavior will change in pandas 3.0. This inplace method will never work because the intermediate object on which we are setting values always behaves as a copy.\n",
            "\n",
            "For example, when doing 'df[col].method(value, inplace=True)', try using 'df.method({col: value}, inplace=True)' or df[col] = df[col].method(value) instead, to perform the operation inplace on the original object.\n",
            "\n",
            "\n",
            "  df_dirty['cast'].fillna(\"Not Available\", inplace=True)\n",
            "/tmp/ipython-input-1622548494.py:11: FutureWarning: Setting an item of incompatible dtype is deprecated and will raise an error in a future version of pandas. Value 'Not Available' has dtype incompatible with float64, please explicitly cast to a compatible dtype first.\n",
            "  df_dirty['cast'].fillna(\"Not Available\", inplace=True)\n"
          ]
        }
      ]
    },
    {
      "cell_type": "markdown",
      "source": [
        "# **5. Cek Ulang Perbaikan Mising Velue**"
      ],
      "metadata": {
        "id": "EzM-3cKUYODc"
      }
    },
    {
      "cell_type": "code",
      "source": [
        "print(\"\\n=== Missing Values Setelah Perbaikan ===\")\n",
        "print(df_dirty.isnull().sum())"
      ],
      "metadata": {
        "colab": {
          "base_uri": "https://localhost:8080/"
        },
        "id": "eGBOO-GMYQyy",
        "outputId": "bc5d7a28-1fea-404b-eeee-3a92ecac4842"
      },
      "execution_count": 13,
      "outputs": [
        {
          "output_type": "stream",
          "name": "stdout",
          "text": [
            "\n",
            "=== Missing Values Setelah Perbaikan ===\n",
            "show_id         0\n",
            "type            0\n",
            "title           0\n",
            "director        0\n",
            "country         0\n",
            "date_added      0\n",
            "release_year    0\n",
            "rating          0\n",
            "duration        0\n",
            "listed_in       0\n",
            "cast            0\n",
            "dtype: int64\n"
          ]
        }
      ]
    },
    {
      "cell_type": "markdown",
      "source": [
        "# **6. Cek & Hapus Duplikasi**"
      ],
      "metadata": {
        "id": "_ja4VubJc5O9"
      }
    },
    {
      "cell_type": "code",
      "source": [
        "# Cell 5: Cek data duplikat\n",
        "print(\"=== Cek Data Duplikat ===\")\n",
        "dup_count = df_dirty.duplicated().sum()\n",
        "print(f\"Jumlah baris duplikat: {dup_count}\")\n",
        "\n",
        "# Jika ada duplikat, tampilkan contoh 5 baris pertama yang duplikat\n",
        "if dup_count > 0:\n",
        "    print(\"\\nContoh data duplikat:\")\n",
        "    display(df_dirty[df_dirty.duplicated()].head())\n",
        "else:\n",
        "    print(\"Tidak ada data duplikat.\")"
      ],
      "metadata": {
        "colab": {
          "base_uri": "https://localhost:8080/",
          "height": 280
        },
        "id": "s-ZDgGrvdEjo",
        "outputId": "751b3147-5523-425d-e8c9-889c7f6e7886"
      },
      "execution_count": 14,
      "outputs": [
        {
          "output_type": "stream",
          "name": "stdout",
          "text": [
            "=== Cek Data Duplikat ===\n",
            "Jumlah baris duplikat: 10\n",
            "\n",
            "Contoh data duplikat:\n"
          ]
        },
        {
          "output_type": "display_data",
          "data": {
            "text/plain": [
              "     show_id     type                  title       director        country  \\\n",
              "8790   s5505    Movie             Kiss & Cry  Sean Cisterna         Canada   \n",
              "8791   s6264  TV Show          Beating Again      Not Given    South Korea   \n",
              "8792   s1463  TV Show            Running Man      Not Given       Pakistan   \n",
              "8793   s6741    Movie                  Farce      Shadi Ali          Egypt   \n",
              "8794   s2758    Movie  Pretty Little Stalker      Sam Irvin  United States   \n",
              "\n",
              "     date_added  release_year rating  duration  \\\n",
              "8790   5/1/2017          2017  TV-MA    93 min   \n",
              "8791  5/22/2017          2015  TV-14  1 Season   \n",
              "8792   1/1/2021          2020  TV-Y7  1 Season   \n",
              "8793   6/6/2019          2017  TV-MA    94 min   \n",
              "8794  3/31/2020          2018  TV-14    84 min   \n",
              "\n",
              "                                              listed_in           cast  \n",
              "8790      Dramas, International Movies, Romantic Movies  Not Available  \n",
              "8791  International TV Shows, Korean TV Shows, Roman...  Not Available  \n",
              "8792                              Kids' TV, TV Comedies  Not Available  \n",
              "8793                     Comedies, International Movies  Not Available  \n",
              "8794                                          Thrillers  Not Available  "
            ],
            "text/html": [
              "\n",
              "  <div id=\"df-8dbbd449-437d-46c7-b8b0-24bfe4847819\" class=\"colab-df-container\">\n",
              "    <div>\n",
              "<style scoped>\n",
              "    .dataframe tbody tr th:only-of-type {\n",
              "        vertical-align: middle;\n",
              "    }\n",
              "\n",
              "    .dataframe tbody tr th {\n",
              "        vertical-align: top;\n",
              "    }\n",
              "\n",
              "    .dataframe thead th {\n",
              "        text-align: right;\n",
              "    }\n",
              "</style>\n",
              "<table border=\"1\" class=\"dataframe\">\n",
              "  <thead>\n",
              "    <tr style=\"text-align: right;\">\n",
              "      <th></th>\n",
              "      <th>show_id</th>\n",
              "      <th>type</th>\n",
              "      <th>title</th>\n",
              "      <th>director</th>\n",
              "      <th>country</th>\n",
              "      <th>date_added</th>\n",
              "      <th>release_year</th>\n",
              "      <th>rating</th>\n",
              "      <th>duration</th>\n",
              "      <th>listed_in</th>\n",
              "      <th>cast</th>\n",
              "    </tr>\n",
              "  </thead>\n",
              "  <tbody>\n",
              "    <tr>\n",
              "      <th>8790</th>\n",
              "      <td>s5505</td>\n",
              "      <td>Movie</td>\n",
              "      <td>Kiss &amp; Cry</td>\n",
              "      <td>Sean Cisterna</td>\n",
              "      <td>Canada</td>\n",
              "      <td>5/1/2017</td>\n",
              "      <td>2017</td>\n",
              "      <td>TV-MA</td>\n",
              "      <td>93 min</td>\n",
              "      <td>Dramas, International Movies, Romantic Movies</td>\n",
              "      <td>Not Available</td>\n",
              "    </tr>\n",
              "    <tr>\n",
              "      <th>8791</th>\n",
              "      <td>s6264</td>\n",
              "      <td>TV Show</td>\n",
              "      <td>Beating Again</td>\n",
              "      <td>Not Given</td>\n",
              "      <td>South Korea</td>\n",
              "      <td>5/22/2017</td>\n",
              "      <td>2015</td>\n",
              "      <td>TV-14</td>\n",
              "      <td>1 Season</td>\n",
              "      <td>International TV Shows, Korean TV Shows, Roman...</td>\n",
              "      <td>Not Available</td>\n",
              "    </tr>\n",
              "    <tr>\n",
              "      <th>8792</th>\n",
              "      <td>s1463</td>\n",
              "      <td>TV Show</td>\n",
              "      <td>Running Man</td>\n",
              "      <td>Not Given</td>\n",
              "      <td>Pakistan</td>\n",
              "      <td>1/1/2021</td>\n",
              "      <td>2020</td>\n",
              "      <td>TV-Y7</td>\n",
              "      <td>1 Season</td>\n",
              "      <td>Kids' TV, TV Comedies</td>\n",
              "      <td>Not Available</td>\n",
              "    </tr>\n",
              "    <tr>\n",
              "      <th>8793</th>\n",
              "      <td>s6741</td>\n",
              "      <td>Movie</td>\n",
              "      <td>Farce</td>\n",
              "      <td>Shadi Ali</td>\n",
              "      <td>Egypt</td>\n",
              "      <td>6/6/2019</td>\n",
              "      <td>2017</td>\n",
              "      <td>TV-MA</td>\n",
              "      <td>94 min</td>\n",
              "      <td>Comedies, International Movies</td>\n",
              "      <td>Not Available</td>\n",
              "    </tr>\n",
              "    <tr>\n",
              "      <th>8794</th>\n",
              "      <td>s2758</td>\n",
              "      <td>Movie</td>\n",
              "      <td>Pretty Little Stalker</td>\n",
              "      <td>Sam Irvin</td>\n",
              "      <td>United States</td>\n",
              "      <td>3/31/2020</td>\n",
              "      <td>2018</td>\n",
              "      <td>TV-14</td>\n",
              "      <td>84 min</td>\n",
              "      <td>Thrillers</td>\n",
              "      <td>Not Available</td>\n",
              "    </tr>\n",
              "  </tbody>\n",
              "</table>\n",
              "</div>\n",
              "    <div class=\"colab-df-buttons\">\n",
              "\n",
              "  <div class=\"colab-df-container\">\n",
              "    <button class=\"colab-df-convert\" onclick=\"convertToInteractive('df-8dbbd449-437d-46c7-b8b0-24bfe4847819')\"\n",
              "            title=\"Convert this dataframe to an interactive table.\"\n",
              "            style=\"display:none;\">\n",
              "\n",
              "  <svg xmlns=\"http://www.w3.org/2000/svg\" height=\"24px\" viewBox=\"0 -960 960 960\">\n",
              "    <path d=\"M120-120v-720h720v720H120Zm60-500h600v-160H180v160Zm220 220h160v-160H400v160Zm0 220h160v-160H400v160ZM180-400h160v-160H180v160Zm440 0h160v-160H620v160ZM180-180h160v-160H180v160Zm440 0h160v-160H620v160Z\"/>\n",
              "  </svg>\n",
              "    </button>\n",
              "\n",
              "  <style>\n",
              "    .colab-df-container {\n",
              "      display:flex;\n",
              "      gap: 12px;\n",
              "    }\n",
              "\n",
              "    .colab-df-convert {\n",
              "      background-color: #E8F0FE;\n",
              "      border: none;\n",
              "      border-radius: 50%;\n",
              "      cursor: pointer;\n",
              "      display: none;\n",
              "      fill: #1967D2;\n",
              "      height: 32px;\n",
              "      padding: 0 0 0 0;\n",
              "      width: 32px;\n",
              "    }\n",
              "\n",
              "    .colab-df-convert:hover {\n",
              "      background-color: #E2EBFA;\n",
              "      box-shadow: 0px 1px 2px rgba(60, 64, 67, 0.3), 0px 1px 3px 1px rgba(60, 64, 67, 0.15);\n",
              "      fill: #174EA6;\n",
              "    }\n",
              "\n",
              "    .colab-df-buttons div {\n",
              "      margin-bottom: 4px;\n",
              "    }\n",
              "\n",
              "    [theme=dark] .colab-df-convert {\n",
              "      background-color: #3B4455;\n",
              "      fill: #D2E3FC;\n",
              "    }\n",
              "\n",
              "    [theme=dark] .colab-df-convert:hover {\n",
              "      background-color: #434B5C;\n",
              "      box-shadow: 0px 1px 3px 1px rgba(0, 0, 0, 0.15);\n",
              "      filter: drop-shadow(0px 1px 2px rgba(0, 0, 0, 0.3));\n",
              "      fill: #FFFFFF;\n",
              "    }\n",
              "  </style>\n",
              "\n",
              "    <script>\n",
              "      const buttonEl =\n",
              "        document.querySelector('#df-8dbbd449-437d-46c7-b8b0-24bfe4847819 button.colab-df-convert');\n",
              "      buttonEl.style.display =\n",
              "        google.colab.kernel.accessAllowed ? 'block' : 'none';\n",
              "\n",
              "      async function convertToInteractive(key) {\n",
              "        const element = document.querySelector('#df-8dbbd449-437d-46c7-b8b0-24bfe4847819');\n",
              "        const dataTable =\n",
              "          await google.colab.kernel.invokeFunction('convertToInteractive',\n",
              "                                                    [key], {});\n",
              "        if (!dataTable) return;\n",
              "\n",
              "        const docLinkHtml = 'Like what you see? Visit the ' +\n",
              "          '<a target=\"_blank\" href=https://colab.research.google.com/notebooks/data_table.ipynb>data table notebook</a>'\n",
              "          + ' to learn more about interactive tables.';\n",
              "        element.innerHTML = '';\n",
              "        dataTable['output_type'] = 'display_data';\n",
              "        await google.colab.output.renderOutput(dataTable, element);\n",
              "        const docLink = document.createElement('div');\n",
              "        docLink.innerHTML = docLinkHtml;\n",
              "        element.appendChild(docLink);\n",
              "      }\n",
              "    </script>\n",
              "  </div>\n",
              "\n",
              "\n",
              "    <div id=\"df-24d86bc7-e9db-4571-93ee-f429fe123741\">\n",
              "      <button class=\"colab-df-quickchart\" onclick=\"quickchart('df-24d86bc7-e9db-4571-93ee-f429fe123741')\"\n",
              "                title=\"Suggest charts\"\n",
              "                style=\"display:none;\">\n",
              "\n",
              "<svg xmlns=\"http://www.w3.org/2000/svg\" height=\"24px\"viewBox=\"0 0 24 24\"\n",
              "     width=\"24px\">\n",
              "    <g>\n",
              "        <path d=\"M19 3H5c-1.1 0-2 .9-2 2v14c0 1.1.9 2 2 2h14c1.1 0 2-.9 2-2V5c0-1.1-.9-2-2-2zM9 17H7v-7h2v7zm4 0h-2V7h2v10zm4 0h-2v-4h2v4z\"/>\n",
              "    </g>\n",
              "</svg>\n",
              "      </button>\n",
              "\n",
              "<style>\n",
              "  .colab-df-quickchart {\n",
              "      --bg-color: #E8F0FE;\n",
              "      --fill-color: #1967D2;\n",
              "      --hover-bg-color: #E2EBFA;\n",
              "      --hover-fill-color: #174EA6;\n",
              "      --disabled-fill-color: #AAA;\n",
              "      --disabled-bg-color: #DDD;\n",
              "  }\n",
              "\n",
              "  [theme=dark] .colab-df-quickchart {\n",
              "      --bg-color: #3B4455;\n",
              "      --fill-color: #D2E3FC;\n",
              "      --hover-bg-color: #434B5C;\n",
              "      --hover-fill-color: #FFFFFF;\n",
              "      --disabled-bg-color: #3B4455;\n",
              "      --disabled-fill-color: #666;\n",
              "  }\n",
              "\n",
              "  .colab-df-quickchart {\n",
              "    background-color: var(--bg-color);\n",
              "    border: none;\n",
              "    border-radius: 50%;\n",
              "    cursor: pointer;\n",
              "    display: none;\n",
              "    fill: var(--fill-color);\n",
              "    height: 32px;\n",
              "    padding: 0;\n",
              "    width: 32px;\n",
              "  }\n",
              "\n",
              "  .colab-df-quickchart:hover {\n",
              "    background-color: var(--hover-bg-color);\n",
              "    box-shadow: 0 1px 2px rgba(60, 64, 67, 0.3), 0 1px 3px 1px rgba(60, 64, 67, 0.15);\n",
              "    fill: var(--button-hover-fill-color);\n",
              "  }\n",
              "\n",
              "  .colab-df-quickchart-complete:disabled,\n",
              "  .colab-df-quickchart-complete:disabled:hover {\n",
              "    background-color: var(--disabled-bg-color);\n",
              "    fill: var(--disabled-fill-color);\n",
              "    box-shadow: none;\n",
              "  }\n",
              "\n",
              "  .colab-df-spinner {\n",
              "    border: 2px solid var(--fill-color);\n",
              "    border-color: transparent;\n",
              "    border-bottom-color: var(--fill-color);\n",
              "    animation:\n",
              "      spin 1s steps(1) infinite;\n",
              "  }\n",
              "\n",
              "  @keyframes spin {\n",
              "    0% {\n",
              "      border-color: transparent;\n",
              "      border-bottom-color: var(--fill-color);\n",
              "      border-left-color: var(--fill-color);\n",
              "    }\n",
              "    20% {\n",
              "      border-color: transparent;\n",
              "      border-left-color: var(--fill-color);\n",
              "      border-top-color: var(--fill-color);\n",
              "    }\n",
              "    30% {\n",
              "      border-color: transparent;\n",
              "      border-left-color: var(--fill-color);\n",
              "      border-top-color: var(--fill-color);\n",
              "      border-right-color: var(--fill-color);\n",
              "    }\n",
              "    40% {\n",
              "      border-color: transparent;\n",
              "      border-right-color: var(--fill-color);\n",
              "      border-top-color: var(--fill-color);\n",
              "    }\n",
              "    60% {\n",
              "      border-color: transparent;\n",
              "      border-right-color: var(--fill-color);\n",
              "    }\n",
              "    80% {\n",
              "      border-color: transparent;\n",
              "      border-right-color: var(--fill-color);\n",
              "      border-bottom-color: var(--fill-color);\n",
              "    }\n",
              "    90% {\n",
              "      border-color: transparent;\n",
              "      border-bottom-color: var(--fill-color);\n",
              "    }\n",
              "  }\n",
              "</style>\n",
              "\n",
              "      <script>\n",
              "        async function quickchart(key) {\n",
              "          const quickchartButtonEl =\n",
              "            document.querySelector('#' + key + ' button');\n",
              "          quickchartButtonEl.disabled = true;  // To prevent multiple clicks.\n",
              "          quickchartButtonEl.classList.add('colab-df-spinner');\n",
              "          try {\n",
              "            const charts = await google.colab.kernel.invokeFunction(\n",
              "                'suggestCharts', [key], {});\n",
              "          } catch (error) {\n",
              "            console.error('Error during call to suggestCharts:', error);\n",
              "          }\n",
              "          quickchartButtonEl.classList.remove('colab-df-spinner');\n",
              "          quickchartButtonEl.classList.add('colab-df-quickchart-complete');\n",
              "        }\n",
              "        (() => {\n",
              "          let quickchartButtonEl =\n",
              "            document.querySelector('#df-24d86bc7-e9db-4571-93ee-f429fe123741 button');\n",
              "          quickchartButtonEl.style.display =\n",
              "            google.colab.kernel.accessAllowed ? 'block' : 'none';\n",
              "        })();\n",
              "      </script>\n",
              "    </div>\n",
              "\n",
              "    </div>\n",
              "  </div>\n"
            ],
            "application/vnd.google.colaboratory.intrinsic+json": {
              "type": "dataframe",
              "repr_error": "0"
            }
          },
          "metadata": {}
        }
      ]
    },
    {
      "cell_type": "code",
      "source": [
        "# === Hapus Data Duplikat ===\n",
        "print(\"=== Hapus Data Duplikat ===\")\n",
        "\n",
        "# Hitung jumlah data sebelum\n",
        "before = df_dirty.shape[0]\n",
        "\n",
        "# Hapus baris yang duplikat\n",
        "df_clean = df_dirty.drop_duplicates()\n",
        "\n",
        "# Hitung jumlah data sesudah\n",
        "after = df_clean.shape[0]\n",
        "\n",
        "print(f\"Jumlah baris sebelum cleaning: {before}\")\n",
        "print(f\"Jumlah baris setelah cleaning: {after}\")\n",
        "print(f\"Jumlah baris yang terhapus (duplikat): {before - after}\")"
      ],
      "metadata": {
        "colab": {
          "base_uri": "https://localhost:8080/"
        },
        "id": "SyJdnMiNeu-n",
        "outputId": "6cd6bd65-6bf1-4807-e42a-c78ff84ba16d"
      },
      "execution_count": 15,
      "outputs": [
        {
          "output_type": "stream",
          "name": "stdout",
          "text": [
            "=== Hapus Data Duplikat ===\n",
            "Jumlah baris sebelum cleaning: 8800\n",
            "Jumlah baris setelah cleaning: 8790\n",
            "Jumlah baris yang terhapus (duplikat): 10\n"
          ]
        }
      ]
    },
    {
      "cell_type": "markdown",
      "source": [
        "# **7. Cek Outlier Pada Kolom Realese_Tahun**"
      ],
      "metadata": {
        "id": "KYm0bTbhhTFs"
      }
    },
    {
      "cell_type": "code",
      "source": [
        "# 11. Cek outlier pada kolom release_year\n",
        "print(\"\\n=== Nilai Unik release_year ===\")\n",
        "print(sorted(df_clean['release_year'].unique()))"
      ],
      "metadata": {
        "colab": {
          "base_uri": "https://localhost:8080/"
        },
        "id": "QBiSzLZ2hHs1",
        "outputId": "a80c27a1-169a-4ac8-8f82-d5fb705a8c56"
      },
      "execution_count": 27,
      "outputs": [
        {
          "output_type": "stream",
          "name": "stdout",
          "text": [
            "\n",
            "=== Nilai Unik release_year ===\n",
            "[np.int64(1925), np.int64(1942), np.int64(1943), np.int64(1944), np.int64(1945), np.int64(1946), np.int64(1947), np.int64(1954), np.int64(1955), np.int64(1956), np.int64(1958), np.int64(1959), np.int64(1960), np.int64(1961), np.int64(1962), np.int64(1963), np.int64(1964), np.int64(1965), np.int64(1966), np.int64(1967), np.int64(1968), np.int64(1969), np.int64(1970), np.int64(1971), np.int64(1972), np.int64(1973), np.int64(1974), np.int64(1975), np.int64(1976), np.int64(1977), np.int64(1978), np.int64(1979), np.int64(1980), np.int64(1981), np.int64(1982), np.int64(1983), np.int64(1984), np.int64(1985), np.int64(1986), np.int64(1987), np.int64(1988), np.int64(1989), np.int64(1990), np.int64(1991), np.int64(1992), np.int64(1993), np.int64(1994), np.int64(1995), np.int64(1996), np.int64(1997), np.int64(1998), np.int64(1999), np.int64(2000), np.int64(2001), np.int64(2002), np.int64(2003), np.int64(2004), np.int64(2005), np.int64(2006), np.int64(2007), np.int64(2008), np.int64(2009), np.int64(2010), np.int64(2011), np.int64(2012), np.int64(2013), np.int64(2014), np.int64(2015), np.int64(2016), np.int64(2017), np.int64(2018), np.int64(2019), np.int64(2020), np.int64(2021)]\n"
          ]
        }
      ]
    },
    {
      "cell_type": "markdown",
      "source": [
        "# **8. Standarisasi Format Data**"
      ],
      "metadata": {
        "id": "45vguJYTjDDk"
      }
    },
    {
      "cell_type": "code",
      "source": [
        "# 1. Kolom title → huruf kecil + hapus spasi berlebih\n",
        "df['title'] = df['title'].str.strip().str.lower()"
      ],
      "metadata": {
        "id": "5kRIwuNOj9Pg"
      },
      "execution_count": 32,
      "outputs": []
    },
    {
      "cell_type": "code",
      "source": [
        "# Cek hasil standarisasi kolom title\n",
        "print(\"=== Contoh kolom title setelah standarisasi ===\")\n",
        "print(df['title'].head(10))\n"
      ],
      "metadata": {
        "colab": {
          "base_uri": "https://localhost:8080/"
        },
        "id": "ZG46f5WBjI9w",
        "outputId": "f5f92041-a809-4e45-a3e5-34376823eae3"
      },
      "execution_count": 33,
      "outputs": [
        {
          "output_type": "stream",
          "name": "stdout",
          "text": [
            "=== Contoh kolom title setelah standarisasi ===\n",
            "0                dick johnson is dead\n",
            "1                           ganglands\n",
            "2                       midnight mass\n",
            "3    confessions of an invisible girl\n",
            "4                             sankofa\n",
            "5       the great british baking show\n",
            "6                        the starling\n",
            "7     motu patlu in the game of zones\n",
            "8                        je suis karl\n",
            "9            motu patlu in wonderland\n",
            "Name: title, dtype: object\n"
          ]
        }
      ]
    },
    {
      "cell_type": "code",
      "source": [
        "# 4. Kolom rating → seragamkan kapitalisasi\n",
        "df['rating'] = df['rating'].str.upper().str.strip()"
      ],
      "metadata": {
        "id": "b6HYPj5nkOD5"
      },
      "execution_count": 34,
      "outputs": []
    },
    {
      "cell_type": "code",
      "source": [
        "# Cek hasil standarisasi kolom rating\n",
        "print(\"\\n=== Nilai unik pada kolom rating setelah standarisasi ===\")\n",
        "print(df['rating'].unique())"
      ],
      "metadata": {
        "colab": {
          "base_uri": "https://localhost:8080/"
        },
        "id": "pCbf47PTkUMA",
        "outputId": "6c2e9d88-a045-4b01-ba0f-fb70e0fca474"
      },
      "execution_count": 35,
      "outputs": [
        {
          "output_type": "stream",
          "name": "stdout",
          "text": [
            "\n",
            "=== Nilai unik pada kolom rating setelah standarisasi ===\n",
            "['PG-13' 'TV-MA' 'TV-PG' 'TV-14' 'TV-Y7' 'TV-Y' 'PG' 'TV-G' nan 'R' 'G'\n",
            " 'NC-17' 'NR' 'TV-Y7-FV' 'UR']\n"
          ]
        }
      ]
    },
    {
      "cell_type": "markdown",
      "source": [
        "# **9. Cek Nilai Tidak Valid**"
      ],
      "metadata": {
        "id": "LgLq1TTqk5-y"
      }
    },
    {
      "cell_type": "code",
      "source": [
        "# 1. Cek nilai tidak valid pada release_year\n",
        "print(\"=== Nilai tidak valid pada release_year ===\")\n",
        "invalid_years = df[(df['release_year'] < 1900) | (df['release_year'] > 2025)]\n",
        "print(invalid_years['release_year'].unique())"
      ],
      "metadata": {
        "colab": {
          "base_uri": "https://localhost:8080/"
        },
        "id": "_qoVZssIlALB",
        "outputId": "ead3c7af-fe6c-4ab8-e7e1-91e013dde87f"
      },
      "execution_count": 36,
      "outputs": [
        {
          "output_type": "stream",
          "name": "stdout",
          "text": [
            "=== Nilai tidak valid pada release_year ===\n",
            "[]\n"
          ]
        }
      ]
    },
    {
      "cell_type": "markdown",
      "source": [
        "# **10. Cek Kolom Tidak Relevan**"
      ],
      "metadata": {
        "id": "ozYvzPzFlnFe"
      }
    },
    {
      "cell_type": "code",
      "source": [
        "# 1. Cek jumlah nilai unik per kolom\n",
        "print(\"=== Jumlah nilai unik per kolom ===\")\n",
        "print(df.nunique())"
      ],
      "metadata": {
        "colab": {
          "base_uri": "https://localhost:8080/"
        },
        "id": "bOPw0daBlrcR",
        "outputId": "70f1e6e1-9b35-4720-8076-bd5d3376b741"
      },
      "execution_count": 39,
      "outputs": [
        {
          "output_type": "stream",
          "name": "stdout",
          "text": [
            "=== Jumlah nilai unik per kolom ===\n",
            "show_id         8790\n",
            "type               2\n",
            "title           8781\n",
            "director        4518\n",
            "country           86\n",
            "date_added      1713\n",
            "release_year      74\n",
            "rating            14\n",
            "duration         220\n",
            "listed_in        513\n",
            "cast               0\n",
            "dtype: int64\n"
          ]
        }
      ]
    },
    {
      "cell_type": "code",
      "source": [
        "# Identifikasi kolom kandidat tidak relevan\n",
        "irrelevant_cols = []\n",
        "\n",
        "# Kolom dengan 1 nilai unik\n",
        "single_value_cols = df.nunique()[df.nunique() == 1].index.tolist()\n",
        "irrelevant_cols.extend(single_value_cols)"
      ],
      "metadata": {
        "id": "_p_cV9IVl4T6"
      },
      "execution_count": 40,
      "outputs": []
    },
    {
      "cell_type": "code",
      "source": [
        "# Hapus kolom tidak relevan\n",
        "df = df.drop(columns=set(irrelevant_cols), errors='ignore')\n",
        "\n",
        "print(\"\\n=== Setelah perbaikan ===\")\n",
        "print(\"Kolom dataset sekarang:\", df.columns.tolist())"
      ],
      "metadata": {
        "colab": {
          "base_uri": "https://localhost:8080/"
        },
        "id": "aTs7YuBQmGe9",
        "outputId": "1907c932-4dc4-4bf2-d73a-926fb3ecae80"
      },
      "execution_count": 41,
      "outputs": [
        {
          "output_type": "stream",
          "name": "stdout",
          "text": [
            "\n",
            "=== Setelah perbaikan ===\n",
            "Kolom dataset sekarang: ['show_id', 'type', 'title', 'director', 'country', 'date_added', 'release_year', 'rating', 'duration', 'listed_in', 'cast']\n"
          ]
        }
      ]
    },
    {
      "cell_type": "markdown",
      "source": [
        "# **11. Dataset Setelah Cleansing**\n",
        "Menampilkan dataset akhir setelah proses cleansing:  \n",
        "- Tidak ada missing value penting  \n",
        "- Tidak ada duplikasi  \n",
        "- Standarisasi (Kolom title → huruf kecil + hapus spasi berlebih)  \n",
        "- Standarisasi (Kolom rating → seragamkan kapitalisasi)\n",
        "- Tidak ada nilai yang tidak valid\n",
        "- Tidak ada Kolong Tidak Relevan"
      ],
      "metadata": {
        "id": "lRWPnNtRm-Ze"
      }
    },
    {
      "cell_type": "code",
      "source": [
        "# === Tampilkan hasil dataset setelah cleansing ===\n",
        "\n",
        "print(\"=== Preview Dataset Bersih ===\")\n",
        "display(df.head(10))   # tampilkan 10 baris pertama\n",
        "\n",
        "print(\"\\n=== Info Dataset Bersih ===\")\n",
        "print(df.info())\n",
        "\n",
        "print(\"\\n=== Jumlah Baris & Kolom Dataset Bersih ===\")\n",
        "print(df.shape)"
      ],
      "metadata": {
        "colab": {
          "base_uri": "https://localhost:8080/",
          "height": 824
        },
        "id": "xKIVUaK4nHRt",
        "outputId": "4c19755a-5036-4100-f49b-9f2af5ccbfa9"
      },
      "execution_count": 42,
      "outputs": [
        {
          "output_type": "stream",
          "name": "stdout",
          "text": [
            "=== Preview Dataset Bersih ===\n"
          ]
        },
        {
          "output_type": "display_data",
          "data": {
            "text/plain": [
              "  show_id     type                             title             director  \\\n",
              "0      s1    Movie              dick johnson is dead      Kirsten Johnson   \n",
              "1      s3  TV Show                         ganglands      Julien Leclercq   \n",
              "2      s6  TV Show                     midnight mass        Mike Flanagan   \n",
              "3     s14    Movie  confessions of an invisible girl        Bruno Garotti   \n",
              "4      s8    Movie                           sankofa         Haile Gerima   \n",
              "5      s9  TV Show     the great british baking show      Andy Devonshire   \n",
              "6     s10    Movie                      the starling       Theodore Melfi   \n",
              "7    s939    Movie   motu patlu in the game of zones          Suhas Kadav   \n",
              "8     s13    Movie                      je suis karl  Christian Schwochow   \n",
              "9    s940    Movie          motu patlu in wonderland          Suhas Kadav   \n",
              "\n",
              "          country date_added  release_year rating   duration  \\\n",
              "0   United States  9/25/2021          2020  PG-13     90 min   \n",
              "1          France  9/24/2021          2021  TV-MA   1 Season   \n",
              "2   United States  9/24/2021          2021  TV-MA   1 Season   \n",
              "3          Brazil  9/22/2021          2021  TV-PG     91 min   \n",
              "4   United States  9/24/2021          1993  TV-MA    125 min   \n",
              "5  United Kingdom  9/24/2021          2021  TV-14  9 Seasons   \n",
              "6   United States  9/24/2021          2021  PG-13    104 min   \n",
              "7           India   5/1/2021          2019  TV-Y7     87 min   \n",
              "8         Germany  9/23/2021          2021  TV-MA    127 min   \n",
              "9           India   5/1/2021          2013  TV-Y7     76 min   \n",
              "\n",
              "                                           listed_in  cast  \n",
              "0                                      Documentaries   NaN  \n",
              "1  Crime TV Shows, International TV Shows, TV Act...   NaN  \n",
              "2                 TV Dramas, TV Horror, TV Mysteries   NaN  \n",
              "3                 Children & Family Movies, Comedies   NaN  \n",
              "4   Dramas, Independent Movies, International Movies   NaN  \n",
              "5                       British TV Shows, Reality TV   NaN  \n",
              "6                                   Comedies, Dramas   NaN  \n",
              "7  Children & Family Movies, Comedies, Music & Mu...   NaN  \n",
              "8                       Dramas, International Movies   NaN  \n",
              "9         Children & Family Movies, Music & Musicals   NaN  "
            ],
            "text/html": [
              "\n",
              "  <div id=\"df-f960188a-f5ae-4923-a91d-aea7746a0e0c\" class=\"colab-df-container\">\n",
              "    <div>\n",
              "<style scoped>\n",
              "    .dataframe tbody tr th:only-of-type {\n",
              "        vertical-align: middle;\n",
              "    }\n",
              "\n",
              "    .dataframe tbody tr th {\n",
              "        vertical-align: top;\n",
              "    }\n",
              "\n",
              "    .dataframe thead th {\n",
              "        text-align: right;\n",
              "    }\n",
              "</style>\n",
              "<table border=\"1\" class=\"dataframe\">\n",
              "  <thead>\n",
              "    <tr style=\"text-align: right;\">\n",
              "      <th></th>\n",
              "      <th>show_id</th>\n",
              "      <th>type</th>\n",
              "      <th>title</th>\n",
              "      <th>director</th>\n",
              "      <th>country</th>\n",
              "      <th>date_added</th>\n",
              "      <th>release_year</th>\n",
              "      <th>rating</th>\n",
              "      <th>duration</th>\n",
              "      <th>listed_in</th>\n",
              "      <th>cast</th>\n",
              "    </tr>\n",
              "  </thead>\n",
              "  <tbody>\n",
              "    <tr>\n",
              "      <th>0</th>\n",
              "      <td>s1</td>\n",
              "      <td>Movie</td>\n",
              "      <td>dick johnson is dead</td>\n",
              "      <td>Kirsten Johnson</td>\n",
              "      <td>United States</td>\n",
              "      <td>9/25/2021</td>\n",
              "      <td>2020</td>\n",
              "      <td>PG-13</td>\n",
              "      <td>90 min</td>\n",
              "      <td>Documentaries</td>\n",
              "      <td>NaN</td>\n",
              "    </tr>\n",
              "    <tr>\n",
              "      <th>1</th>\n",
              "      <td>s3</td>\n",
              "      <td>TV Show</td>\n",
              "      <td>ganglands</td>\n",
              "      <td>Julien Leclercq</td>\n",
              "      <td>France</td>\n",
              "      <td>9/24/2021</td>\n",
              "      <td>2021</td>\n",
              "      <td>TV-MA</td>\n",
              "      <td>1 Season</td>\n",
              "      <td>Crime TV Shows, International TV Shows, TV Act...</td>\n",
              "      <td>NaN</td>\n",
              "    </tr>\n",
              "    <tr>\n",
              "      <th>2</th>\n",
              "      <td>s6</td>\n",
              "      <td>TV Show</td>\n",
              "      <td>midnight mass</td>\n",
              "      <td>Mike Flanagan</td>\n",
              "      <td>United States</td>\n",
              "      <td>9/24/2021</td>\n",
              "      <td>2021</td>\n",
              "      <td>TV-MA</td>\n",
              "      <td>1 Season</td>\n",
              "      <td>TV Dramas, TV Horror, TV Mysteries</td>\n",
              "      <td>NaN</td>\n",
              "    </tr>\n",
              "    <tr>\n",
              "      <th>3</th>\n",
              "      <td>s14</td>\n",
              "      <td>Movie</td>\n",
              "      <td>confessions of an invisible girl</td>\n",
              "      <td>Bruno Garotti</td>\n",
              "      <td>Brazil</td>\n",
              "      <td>9/22/2021</td>\n",
              "      <td>2021</td>\n",
              "      <td>TV-PG</td>\n",
              "      <td>91 min</td>\n",
              "      <td>Children &amp; Family Movies, Comedies</td>\n",
              "      <td>NaN</td>\n",
              "    </tr>\n",
              "    <tr>\n",
              "      <th>4</th>\n",
              "      <td>s8</td>\n",
              "      <td>Movie</td>\n",
              "      <td>sankofa</td>\n",
              "      <td>Haile Gerima</td>\n",
              "      <td>United States</td>\n",
              "      <td>9/24/2021</td>\n",
              "      <td>1993</td>\n",
              "      <td>TV-MA</td>\n",
              "      <td>125 min</td>\n",
              "      <td>Dramas, Independent Movies, International Movies</td>\n",
              "      <td>NaN</td>\n",
              "    </tr>\n",
              "    <tr>\n",
              "      <th>5</th>\n",
              "      <td>s9</td>\n",
              "      <td>TV Show</td>\n",
              "      <td>the great british baking show</td>\n",
              "      <td>Andy Devonshire</td>\n",
              "      <td>United Kingdom</td>\n",
              "      <td>9/24/2021</td>\n",
              "      <td>2021</td>\n",
              "      <td>TV-14</td>\n",
              "      <td>9 Seasons</td>\n",
              "      <td>British TV Shows, Reality TV</td>\n",
              "      <td>NaN</td>\n",
              "    </tr>\n",
              "    <tr>\n",
              "      <th>6</th>\n",
              "      <td>s10</td>\n",
              "      <td>Movie</td>\n",
              "      <td>the starling</td>\n",
              "      <td>Theodore Melfi</td>\n",
              "      <td>United States</td>\n",
              "      <td>9/24/2021</td>\n",
              "      <td>2021</td>\n",
              "      <td>PG-13</td>\n",
              "      <td>104 min</td>\n",
              "      <td>Comedies, Dramas</td>\n",
              "      <td>NaN</td>\n",
              "    </tr>\n",
              "    <tr>\n",
              "      <th>7</th>\n",
              "      <td>s939</td>\n",
              "      <td>Movie</td>\n",
              "      <td>motu patlu in the game of zones</td>\n",
              "      <td>Suhas Kadav</td>\n",
              "      <td>India</td>\n",
              "      <td>5/1/2021</td>\n",
              "      <td>2019</td>\n",
              "      <td>TV-Y7</td>\n",
              "      <td>87 min</td>\n",
              "      <td>Children &amp; Family Movies, Comedies, Music &amp; Mu...</td>\n",
              "      <td>NaN</td>\n",
              "    </tr>\n",
              "    <tr>\n",
              "      <th>8</th>\n",
              "      <td>s13</td>\n",
              "      <td>Movie</td>\n",
              "      <td>je suis karl</td>\n",
              "      <td>Christian Schwochow</td>\n",
              "      <td>Germany</td>\n",
              "      <td>9/23/2021</td>\n",
              "      <td>2021</td>\n",
              "      <td>TV-MA</td>\n",
              "      <td>127 min</td>\n",
              "      <td>Dramas, International Movies</td>\n",
              "      <td>NaN</td>\n",
              "    </tr>\n",
              "    <tr>\n",
              "      <th>9</th>\n",
              "      <td>s940</td>\n",
              "      <td>Movie</td>\n",
              "      <td>motu patlu in wonderland</td>\n",
              "      <td>Suhas Kadav</td>\n",
              "      <td>India</td>\n",
              "      <td>5/1/2021</td>\n",
              "      <td>2013</td>\n",
              "      <td>TV-Y7</td>\n",
              "      <td>76 min</td>\n",
              "      <td>Children &amp; Family Movies, Music &amp; Musicals</td>\n",
              "      <td>NaN</td>\n",
              "    </tr>\n",
              "  </tbody>\n",
              "</table>\n",
              "</div>\n",
              "    <div class=\"colab-df-buttons\">\n",
              "\n",
              "  <div class=\"colab-df-container\">\n",
              "    <button class=\"colab-df-convert\" onclick=\"convertToInteractive('df-f960188a-f5ae-4923-a91d-aea7746a0e0c')\"\n",
              "            title=\"Convert this dataframe to an interactive table.\"\n",
              "            style=\"display:none;\">\n",
              "\n",
              "  <svg xmlns=\"http://www.w3.org/2000/svg\" height=\"24px\" viewBox=\"0 -960 960 960\">\n",
              "    <path d=\"M120-120v-720h720v720H120Zm60-500h600v-160H180v160Zm220 220h160v-160H400v160Zm0 220h160v-160H400v160ZM180-400h160v-160H180v160Zm440 0h160v-160H620v160ZM180-180h160v-160H180v160Zm440 0h160v-160H620v160Z\"/>\n",
              "  </svg>\n",
              "    </button>\n",
              "\n",
              "  <style>\n",
              "    .colab-df-container {\n",
              "      display:flex;\n",
              "      gap: 12px;\n",
              "    }\n",
              "\n",
              "    .colab-df-convert {\n",
              "      background-color: #E8F0FE;\n",
              "      border: none;\n",
              "      border-radius: 50%;\n",
              "      cursor: pointer;\n",
              "      display: none;\n",
              "      fill: #1967D2;\n",
              "      height: 32px;\n",
              "      padding: 0 0 0 0;\n",
              "      width: 32px;\n",
              "    }\n",
              "\n",
              "    .colab-df-convert:hover {\n",
              "      background-color: #E2EBFA;\n",
              "      box-shadow: 0px 1px 2px rgba(60, 64, 67, 0.3), 0px 1px 3px 1px rgba(60, 64, 67, 0.15);\n",
              "      fill: #174EA6;\n",
              "    }\n",
              "\n",
              "    .colab-df-buttons div {\n",
              "      margin-bottom: 4px;\n",
              "    }\n",
              "\n",
              "    [theme=dark] .colab-df-convert {\n",
              "      background-color: #3B4455;\n",
              "      fill: #D2E3FC;\n",
              "    }\n",
              "\n",
              "    [theme=dark] .colab-df-convert:hover {\n",
              "      background-color: #434B5C;\n",
              "      box-shadow: 0px 1px 3px 1px rgba(0, 0, 0, 0.15);\n",
              "      filter: drop-shadow(0px 1px 2px rgba(0, 0, 0, 0.3));\n",
              "      fill: #FFFFFF;\n",
              "    }\n",
              "  </style>\n",
              "\n",
              "    <script>\n",
              "      const buttonEl =\n",
              "        document.querySelector('#df-f960188a-f5ae-4923-a91d-aea7746a0e0c button.colab-df-convert');\n",
              "      buttonEl.style.display =\n",
              "        google.colab.kernel.accessAllowed ? 'block' : 'none';\n",
              "\n",
              "      async function convertToInteractive(key) {\n",
              "        const element = document.querySelector('#df-f960188a-f5ae-4923-a91d-aea7746a0e0c');\n",
              "        const dataTable =\n",
              "          await google.colab.kernel.invokeFunction('convertToInteractive',\n",
              "                                                    [key], {});\n",
              "        if (!dataTable) return;\n",
              "\n",
              "        const docLinkHtml = 'Like what you see? Visit the ' +\n",
              "          '<a target=\"_blank\" href=https://colab.research.google.com/notebooks/data_table.ipynb>data table notebook</a>'\n",
              "          + ' to learn more about interactive tables.';\n",
              "        element.innerHTML = '';\n",
              "        dataTable['output_type'] = 'display_data';\n",
              "        await google.colab.output.renderOutput(dataTable, element);\n",
              "        const docLink = document.createElement('div');\n",
              "        docLink.innerHTML = docLinkHtml;\n",
              "        element.appendChild(docLink);\n",
              "      }\n",
              "    </script>\n",
              "  </div>\n",
              "\n",
              "\n",
              "    <div id=\"df-fbdd7076-9f02-460c-a20c-0112bdf0cb38\">\n",
              "      <button class=\"colab-df-quickchart\" onclick=\"quickchart('df-fbdd7076-9f02-460c-a20c-0112bdf0cb38')\"\n",
              "                title=\"Suggest charts\"\n",
              "                style=\"display:none;\">\n",
              "\n",
              "<svg xmlns=\"http://www.w3.org/2000/svg\" height=\"24px\"viewBox=\"0 0 24 24\"\n",
              "     width=\"24px\">\n",
              "    <g>\n",
              "        <path d=\"M19 3H5c-1.1 0-2 .9-2 2v14c0 1.1.9 2 2 2h14c1.1 0 2-.9 2-2V5c0-1.1-.9-2-2-2zM9 17H7v-7h2v7zm4 0h-2V7h2v10zm4 0h-2v-4h2v4z\"/>\n",
              "    </g>\n",
              "</svg>\n",
              "      </button>\n",
              "\n",
              "<style>\n",
              "  .colab-df-quickchart {\n",
              "      --bg-color: #E8F0FE;\n",
              "      --fill-color: #1967D2;\n",
              "      --hover-bg-color: #E2EBFA;\n",
              "      --hover-fill-color: #174EA6;\n",
              "      --disabled-fill-color: #AAA;\n",
              "      --disabled-bg-color: #DDD;\n",
              "  }\n",
              "\n",
              "  [theme=dark] .colab-df-quickchart {\n",
              "      --bg-color: #3B4455;\n",
              "      --fill-color: #D2E3FC;\n",
              "      --hover-bg-color: #434B5C;\n",
              "      --hover-fill-color: #FFFFFF;\n",
              "      --disabled-bg-color: #3B4455;\n",
              "      --disabled-fill-color: #666;\n",
              "  }\n",
              "\n",
              "  .colab-df-quickchart {\n",
              "    background-color: var(--bg-color);\n",
              "    border: none;\n",
              "    border-radius: 50%;\n",
              "    cursor: pointer;\n",
              "    display: none;\n",
              "    fill: var(--fill-color);\n",
              "    height: 32px;\n",
              "    padding: 0;\n",
              "    width: 32px;\n",
              "  }\n",
              "\n",
              "  .colab-df-quickchart:hover {\n",
              "    background-color: var(--hover-bg-color);\n",
              "    box-shadow: 0 1px 2px rgba(60, 64, 67, 0.3), 0 1px 3px 1px rgba(60, 64, 67, 0.15);\n",
              "    fill: var(--button-hover-fill-color);\n",
              "  }\n",
              "\n",
              "  .colab-df-quickchart-complete:disabled,\n",
              "  .colab-df-quickchart-complete:disabled:hover {\n",
              "    background-color: var(--disabled-bg-color);\n",
              "    fill: var(--disabled-fill-color);\n",
              "    box-shadow: none;\n",
              "  }\n",
              "\n",
              "  .colab-df-spinner {\n",
              "    border: 2px solid var(--fill-color);\n",
              "    border-color: transparent;\n",
              "    border-bottom-color: var(--fill-color);\n",
              "    animation:\n",
              "      spin 1s steps(1) infinite;\n",
              "  }\n",
              "\n",
              "  @keyframes spin {\n",
              "    0% {\n",
              "      border-color: transparent;\n",
              "      border-bottom-color: var(--fill-color);\n",
              "      border-left-color: var(--fill-color);\n",
              "    }\n",
              "    20% {\n",
              "      border-color: transparent;\n",
              "      border-left-color: var(--fill-color);\n",
              "      border-top-color: var(--fill-color);\n",
              "    }\n",
              "    30% {\n",
              "      border-color: transparent;\n",
              "      border-left-color: var(--fill-color);\n",
              "      border-top-color: var(--fill-color);\n",
              "      border-right-color: var(--fill-color);\n",
              "    }\n",
              "    40% {\n",
              "      border-color: transparent;\n",
              "      border-right-color: var(--fill-color);\n",
              "      border-top-color: var(--fill-color);\n",
              "    }\n",
              "    60% {\n",
              "      border-color: transparent;\n",
              "      border-right-color: var(--fill-color);\n",
              "    }\n",
              "    80% {\n",
              "      border-color: transparent;\n",
              "      border-right-color: var(--fill-color);\n",
              "      border-bottom-color: var(--fill-color);\n",
              "    }\n",
              "    90% {\n",
              "      border-color: transparent;\n",
              "      border-bottom-color: var(--fill-color);\n",
              "    }\n",
              "  }\n",
              "</style>\n",
              "\n",
              "      <script>\n",
              "        async function quickchart(key) {\n",
              "          const quickchartButtonEl =\n",
              "            document.querySelector('#' + key + ' button');\n",
              "          quickchartButtonEl.disabled = true;  // To prevent multiple clicks.\n",
              "          quickchartButtonEl.classList.add('colab-df-spinner');\n",
              "          try {\n",
              "            const charts = await google.colab.kernel.invokeFunction(\n",
              "                'suggestCharts', [key], {});\n",
              "          } catch (error) {\n",
              "            console.error('Error during call to suggestCharts:', error);\n",
              "          }\n",
              "          quickchartButtonEl.classList.remove('colab-df-spinner');\n",
              "          quickchartButtonEl.classList.add('colab-df-quickchart-complete');\n",
              "        }\n",
              "        (() => {\n",
              "          let quickchartButtonEl =\n",
              "            document.querySelector('#df-fbdd7076-9f02-460c-a20c-0112bdf0cb38 button');\n",
              "          quickchartButtonEl.style.display =\n",
              "            google.colab.kernel.accessAllowed ? 'block' : 'none';\n",
              "        })();\n",
              "      </script>\n",
              "    </div>\n",
              "\n",
              "    </div>\n",
              "  </div>\n"
            ],
            "application/vnd.google.colaboratory.intrinsic+json": {
              "type": "dataframe",
              "summary": "{\n  \"name\": \"print(df\",\n  \"rows\": 10,\n  \"fields\": [\n    {\n      \"column\": \"show_id\",\n      \"properties\": {\n        \"dtype\": \"string\",\n        \"num_unique_values\": 10,\n        \"samples\": [\n          \"s13\",\n          \"s3\",\n          \"s9\"\n        ],\n        \"semantic_type\": \"\",\n        \"description\": \"\"\n      }\n    },\n    {\n      \"column\": \"type\",\n      \"properties\": {\n        \"dtype\": \"category\",\n        \"num_unique_values\": 2,\n        \"samples\": [\n          \"TV Show\",\n          \"Movie\"\n        ],\n        \"semantic_type\": \"\",\n        \"description\": \"\"\n      }\n    },\n    {\n      \"column\": \"title\",\n      \"properties\": {\n        \"dtype\": \"string\",\n        \"num_unique_values\": 10,\n        \"samples\": [\n          \"je suis karl\",\n          \"ganglands\"\n        ],\n        \"semantic_type\": \"\",\n        \"description\": \"\"\n      }\n    },\n    {\n      \"column\": \"director\",\n      \"properties\": {\n        \"dtype\": \"string\",\n        \"num_unique_values\": 9,\n        \"samples\": [\n          \"Suhas Kadav\",\n          \"Julien Leclercq\"\n        ],\n        \"semantic_type\": \"\",\n        \"description\": \"\"\n      }\n    },\n    {\n      \"column\": \"country\",\n      \"properties\": {\n        \"dtype\": \"string\",\n        \"num_unique_values\": 6,\n        \"samples\": [\n          \"United States\",\n          \"France\"\n        ],\n        \"semantic_type\": \"\",\n        \"description\": \"\"\n      }\n    },\n    {\n      \"column\": \"date_added\",\n      \"properties\": {\n        \"dtype\": \"object\",\n        \"num_unique_values\": 5,\n        \"samples\": [\n          \"9/24/2021\",\n          \"9/23/2021\"\n        ],\n        \"semantic_type\": \"\",\n        \"description\": \"\"\n      }\n    },\n    {\n      \"column\": \"release_year\",\n      \"properties\": {\n        \"dtype\": \"number\",\n        \"std\": 8,\n        \"min\": 1993,\n        \"max\": 2021,\n        \"num_unique_values\": 5,\n        \"samples\": [\n          2021,\n          2013\n        ],\n        \"semantic_type\": \"\",\n        \"description\": \"\"\n      }\n    },\n    {\n      \"column\": \"rating\",\n      \"properties\": {\n        \"dtype\": \"string\",\n        \"num_unique_values\": 5,\n        \"samples\": [\n          \"TV-MA\",\n          \"TV-Y7\"\n        ],\n        \"semantic_type\": \"\",\n        \"description\": \"\"\n      }\n    },\n    {\n      \"column\": \"duration\",\n      \"properties\": {\n        \"dtype\": \"string\",\n        \"num_unique_values\": 9,\n        \"samples\": [\n          \"127 min\",\n          \"1 Season\"\n        ],\n        \"semantic_type\": \"\",\n        \"description\": \"\"\n      }\n    },\n    {\n      \"column\": \"listed_in\",\n      \"properties\": {\n        \"dtype\": \"string\",\n        \"num_unique_values\": 10,\n        \"samples\": [\n          \"Dramas, International Movies\",\n          \"Crime TV Shows, International TV Shows, TV Action & Adventure\"\n        ],\n        \"semantic_type\": \"\",\n        \"description\": \"\"\n      }\n    },\n    {\n      \"column\": \"cast\",\n      \"properties\": {\n        \"dtype\": \"number\",\n        \"std\": null,\n        \"min\": null,\n        \"max\": null,\n        \"num_unique_values\": 0,\n        \"samples\": [],\n        \"semantic_type\": \"\",\n        \"description\": \"\"\n      }\n    }\n  ]\n}"
            }
          },
          "metadata": {}
        },
        {
          "output_type": "stream",
          "name": "stdout",
          "text": [
            "\n",
            "=== Info Dataset Bersih ===\n",
            "<class 'pandas.core.frame.DataFrame'>\n",
            "RangeIndex: 8800 entries, 0 to 8799\n",
            "Data columns (total 11 columns):\n",
            " #   Column        Non-Null Count  Dtype  \n",
            "---  ------        --------------  -----  \n",
            " 0   show_id       8800 non-null   object \n",
            " 1   type          8800 non-null   object \n",
            " 2   title         8800 non-null   object \n",
            " 3   director      8775 non-null   object \n",
            " 4   country       8775 non-null   object \n",
            " 5   date_added    8800 non-null   object \n",
            " 6   release_year  8800 non-null   int64  \n",
            " 7   rating        8775 non-null   object \n",
            " 8   duration      8800 non-null   object \n",
            " 9   listed_in     8800 non-null   object \n",
            " 10  cast          0 non-null      float64\n",
            "dtypes: float64(1), int64(1), object(9)\n",
            "memory usage: 756.4+ KB\n",
            "None\n",
            "\n",
            "=== Jumlah Baris & Kolom Dataset Bersih ===\n",
            "(8800, 11)\n"
          ]
        }
      ]
    },
    {
      "cell_type": "markdown",
      "source": [
        "# **12. Kesimpulan**\n"
      ],
      "metadata": {
        "id": "G6HmLiJ3o1l9"
      }
    },
    {
      "cell_type": "markdown",
      "source": [],
      "metadata": {
        "id": "jLwkSTS1nugy"
      }
    }
  ]
}